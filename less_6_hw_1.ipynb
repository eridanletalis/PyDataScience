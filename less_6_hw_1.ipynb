{
 "cells": [
  {
   "cell_type": "code",
   "execution_count": 12,
   "metadata": {},
   "outputs": [],
   "source": [
    "import numpy as np\n",
    "import pandas as pd\n",
    "from sklearn.datasets import load_boston\n",
    "import matplotlib.pyplot as plt\n",
    "%matplotlib inline\n",
    "\n",
    "boston = load_boston()\n"
   ]
  },
  {
   "cell_type": "code",
   "execution_count": 54,
   "metadata": {},
   "outputs": [],
   "source": [
    "X = pd.DataFrame(boston.data, columns=boston.feature_names)\n",
    "y = pd.DataFrame(boston.target)\n",
    "\n",
    "from sklearn.model_selection import train_test_split\n",
    "Xtrain, Xtest, ytrain, ytest = train_test_split(X, y, test_size=0.3, random_state=42)"
   ]
  },
  {
   "cell_type": "code",
   "execution_count": 56,
   "metadata": {},
   "outputs": [
    {
     "data": {
      "text/plain": [
       "0.711226005748496"
      ]
     },
     "execution_count": 56,
     "metadata": {},
     "output_type": "execute_result"
    }
   ],
   "source": [
    "from sklearn.linear_model import LinearRegression\n",
    "lr = LinearRegression()\n",
    "lr.fit(Xtrain, ytrain)\n",
    "y_lr = lr.predict(Xtest)\n",
    "\n",
    "from sklearn.metrics import r2_score\n",
    "r2_score(ytest, y_lr)"
   ]
  },
  {
   "cell_type": "code",
   "execution_count": 66,
   "metadata": {},
   "outputs": [
    {
     "data": {
      "text/plain": [
       "0.8749965273218174"
      ]
     },
     "execution_count": 66,
     "metadata": {},
     "output_type": "execute_result"
    }
   ],
   "source": [
    "from sklearn.ensemble import RandomForestRegressor\n",
    "model = RandomForestRegressor(n_estimators=1000, max_depth=12, random_state=42)\n",
    "model.fit(Xtrain, ytrain.values[:, 0])\n",
    "ypred = model.predict(Xtest)\n",
    "r2_score(ytest, ypred)"
   ]
  },
  {
   "cell_type": "code",
   "execution_count": null,
   "metadata": {},
   "outputs": [],
   "source": [
    "# R2 модели линейной регрессии и R2 модели случайного дерева отличаются в пользу второй \n",
    "# (0,7112 против 0,845), следовательно, вторая модель лучше"
   ]
  },
  {
   "cell_type": "code",
   "execution_count": 123,
   "metadata": {},
   "outputs": [
    {
     "name": "stdout",
     "output_type": "stream",
     "text": [
      "Сумма показателей важности равна 0.9999999999999999\n",
      "Два наиболее значимых признака:\n",
      "\t - признак LSTAT со значением 0.4156789214509943\n",
      "\t - признак RM со значением 0.402704591696731\n"
     ]
    },
    {
     "data": {
      "image/png": "[encoded data removed]",
      "text/plain": [
       "<Figure size 432x288 with 1 Axes>"
      ]
     },
     "metadata": {},
     "output_type": "display_data"
    }
   ],
   "source": [
    "from sklearn.ensemble import RandomForestClassifier\n",
    "from sklearn.model_selection import cross_val_score\n",
    "from sklearn.model_selection import train_test_split\n",
    "from sklearn.model_selection import GridSearchCV\n",
    "\n",
    "importances = model.feature_importances_\n",
    "\n",
    "\n",
    " \n",
    "std = np.std([tree.feature_importances_ for tree in model.estimators_], axis=0)\n",
    "indices = np.argsort(importances)[::-1]\n",
    "names_indices = boston.feature_names\n",
    "\n",
    "print(f\"Сумма показателей важности равна {importances.sum()}\")\n",
    "idx_max = np.argsort(importances)[-2:][::-1]\n",
    "print(\"Два наиболее значимых признака:\")\n",
    "for idx in idx_max:\n",
    "    print(f'\\t - признак {names_indices[idx]} со значением {importances[idx]}')\n",
    "    \n",
    "plt.figure()\n",
    "plt.title(\"Показатели важности\")\n",
    " \n",
    "plt.bar(range(len(importances)), importances[indices], color=\"b\")\n",
    "plt.xticks(range(len(importances)), names_indices[indices], rotation=90)\n",
    " \n",
    "plt.tight_layout()\n",
    "plt.xlim([-1, len(importances)])\n",
    "plt.show()\n",
    "\n",
    "\n",
    "\n"
   ]
  }
 ],
 "metadata": {
  "kernelspec": {
   "display_name": "Python 3",
   "language": "python",
   "name": "python3"
  },
  "language_info": {
   "codemirror_mode": {
    "name": "ipython",
    "version": 3
   },
   "file_extension": ".py",
   "mimetype": "text/x-python",
   "name": "python",
   "nbconvert_exporter": "python",
   "pygments_lexer": "ipython3",
   "version": "3.7.3"
  }
 },
 "nbformat": 4,
 "nbformat_minor": 2
}
