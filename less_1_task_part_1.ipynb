{
 "cells": [
  {
   "cell_type": "code",
   "execution_count": 47,
   "metadata": {},
   "outputs": [
    {
     "name": "stdout",
     "output_type": "stream",
     "text": [
      "[[ 1  6]\n",
      " [ 2  8]\n",
      " [ 3 11]\n",
      " [ 3 10]\n",
      " [ 1  7]]\n",
      "[2.  8.4]\n"
     ]
    }
   ],
   "source": [
    "\"\"\"\n",
    "1. Импортируйте библиотеку Numpy и дайте ей псевдоним np. Создайте массив Numpy под \n",
    "названием a размером 5x2, то есть состоящий из 5 строк и 2 столбцов. Первый столбец должен \n",
    "содержать числа 1, 2, 3, 3, 1, а второй — числа 6, 8, 11, 10, 7. Будем считать, что каждый \n",
    "столбец — это признак, а строка — наблюдение. Затем найдите среднее значение по каждому \n",
    "признаку, используя метод mean массива Numpy. Результат запишите в массив mean_a, в нем \n",
    "должно быть 2 элемента.\n",
    "\"\"\"\n",
    "\n",
    "import numpy as np\n",
    "\n",
    "a = np.array([[1,6],[2,8],[3,11],[3,10],[1,7]])\n",
    "mean_a = np.empty(2)\n",
    "a.mean(axis=0, out=mean_a)\n",
    "print(a)\n",
    "print(mean_a)"
   ]
  },
  {
   "cell_type": "code",
   "execution_count": 48,
   "metadata": {},
   "outputs": [
    {
     "data": {
      "text/plain": [
       "array([[-1. , -2.4],\n",
       "       [ 0. , -0.4],\n",
       "       [ 1. ,  2.6],\n",
       "       [ 1. ,  1.6],\n",
       "       [-1. , -1.4]])"
      ]
     },
     "execution_count": 48,
     "metadata": {},
     "output_type": "execute_result"
    }
   ],
   "source": [
    "\"\"\"\n",
    "2. Вычислите массив a_centered, отняв от значений массива а средние значения соответствующих \n",
    "признаков, содержащиеся в массиве mean_a. Вычисление должно производиться в одно действие. \n",
    "Получившийся массив должен иметь размер 5x2.\n",
    "\"\"\"\n",
    "a_centred = a - mean_a\n",
    "a_centred"
   ]
  },
  {
   "cell_type": "code",
   "execution_count": 68,
   "metadata": {},
   "outputs": [
    {
     "name": "stdout",
     "output_type": "stream",
     "text": [
      "8.0\n",
      "Ковариация вручную: 2.0\n",
      "Ковариация функцией NumPy: 2.0\n"
     ]
    }
   ],
   "source": [
    "\"\"\"\n",
    "3. Найдите скалярное произведение столбцов массива a_centered. В результате должна получиться \n",
    "величина a_centered_sp. Затем поделите a_centered_sp на N-1, где N — число наблюдений.\n",
    "\"\"\"\n",
    "\n",
    "a_centered_sp = np.dot(a_centred[:,0],a_centred[:,1])\n",
    "cov = a_centered_sp/(len(a)-1)\n",
    "print(f\"Ковариация вручную: {cov}\")\n",
    "print(f\"Ковариация функцией NumPy: {np.cov(a.T)[0,1]}\")\n",
    "\n",
    "\"\"\"\n",
    "4. Число, которое мы получили в конце задания 3, является ковариацией двух признаков, \n",
    "содержащихся в массиве а. В задании 3 мы делили сумму произведений центрированных признаков \n",
    "на N-1, а не на N, поэтому полученная нами величина является несмещенной оценкой ковариации.\n",
    "\"\"\"\n"
   ]
  }
 ],
 "metadata": {
  "kernelspec": {
   "display_name": "Python 3",
   "language": "python",
   "name": "python3"
  },
  "language_info": {
   "codemirror_mode": {
    "name": "ipython",
    "version": 3
   },
   "file_extension": ".py",
   "mimetype": "text/x-python",
   "name": "python",
   "nbconvert_exporter": "python",
   "pygments_lexer": "ipython3",
   "version": "3.7.3"
  }
 },
 "nbformat": 4,
 "nbformat_minor": 2
}
